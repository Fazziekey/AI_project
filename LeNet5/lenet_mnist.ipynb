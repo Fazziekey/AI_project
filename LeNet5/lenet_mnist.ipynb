{
 "cells": [
  {
   "cell_type": "markdown",
   "metadata": {},
   "source": [
    "# 基于 LeNet5 的手写数字识别\n",
    "\n",
    "## 实验介绍\n",
    "\n",
    "LeNet5 + MNIST被誉为深度学习领域的“Hello world”。本实验主要介绍使用MindSpore在MNIST手写数字数据集上开发和训练一个LeNet5模型，并验证模型精度。\n",
    "\n",
    "## 实验目的\n",
    "\n",
    "- 了解如何使用MindSpore进行简单卷积神经网络的开发。\n",
    "- 了解如何使用MindSpore进行简单图片分类任务的训练。\n",
    "- 了解如何使用MindSpore进行简单图片分类任务的验证。\n",
    "\n",
    "## 预备知识\n",
    "\n",
    "- 熟练使用Python，了解Shell及Linux操作系统基本知识。\n",
    "- 具备一定的深度学习理论知识，如卷积神经网络、损失函数、优化器，训练策略等。\n",
    "- 了解并熟悉MindSpore AI计算框架，MindSpore官网：https://www.mindspore.cn\n",
    "- 学习更多MindSpore实验案例，请前往：https://gitee.com/mindspore/course\n",
    "\n",
    "## 实验环境\n",
    "\n",
    "- MindSpore 深度学习框架\n",
    "\n",
    "## 实验准备\n",
    "\n",
    "### 数据集准备\n",
    "\n",
    "MNIST是一个手写数字数据集，训练集包含60000张手写数字，测试集包含10000张手写数字，共10类。MNIST数据集的官网：[THE MNIST DATABASE](http://yann.lecun.com/exdb/mnist/)。\n",
    "\n",
    "```\n",
    "train-images-idx3-ubyte.gz:  training set images (9912422 bytes)\n",
    "train-labels-idx1-ubyte.gz:  training set labels (28881 bytes)\n",
    "t10k-images-idx3-ubyte.gz:   test set images (1648877 bytes)\n",
    "t10k-labels-idx1-ubyte.gz:   test set labels (4542 bytes)\n",
    "```\n",
    "\n",
    "### 脚本准备\n",
    "\n",
    "将脚本和数据集组织为如下形式：\n",
    "\n",
    "```\n",
    "lenet5\n",
    "├── ./datasets/5fbdf571c06d3433df85ac65-momodel/MNIST\n",
    "│   ├── test\n",
    "│   │   ├── t10k-images-idx3-ubyte\n",
    "│   │   └── t10k-labels-idx1-ubyte\n",
    "│   └── train\n",
    "│       ├── train-images-idx3-ubyte\n",
    "│       └── train-labels-idx1-ubyte\n",
    "└── lenet_mnist.ipynb # 或lenet_mnist.py\n",
    "```"
   ]
  },
  {
   "cell_type": "markdown",
   "metadata": {},
   "source": [
    "## 实验步骤\n",
    "\n",
    "### 导入模块\n",
    "\n",
    "导入MindSpore模块和辅助模块，设置MindSpore上下文，如执行模式、设备等。"
   ]
  },
  {
   "cell_type": "code",
   "execution_count": null,
   "metadata": {},
   "outputs": [],
   "source": [
    "import os\n",
    "import matplotlib.pyplot as plt\n",
    "import numpy as np\n",
    "\n",
    "import mindspore as ms\n",
    "import mindspore.context as context\n",
    "import mindspore.dataset.transforms.c_transforms as C\n",
    "import mindspore.dataset.vision.c_transforms as CV\n",
    "\n",
    "from mindspore import nn, Tensor\n",
    "from mindspore.train import Model\n",
    "from mindspore.train.callback import ModelCheckpoint, CheckpointConfig, LossMonitor\n",
    "from mindspore.train.serialization import load_checkpoint, load_param_into_net\n",
    "\n",
    "has_gpu = (os.system('command -v nvidia-smi') == 0)\n",
    "print('Excuting with', 'GPU' if has_gpu else 'CPU', '.')\n",
    "context.set_context(mode=context.GRAPH_MODE, device_target='GPU' if has_gpu else 'CPU')\n",
    "\n",
    "DATA_PATH = 'datasets/5fbdf571c06d3433df85ac65-momodel/MNIST/'\n",
    "CKPT_DIR = 'results/ckpt_lenet'"
   ]
  },
  {
   "cell_type": "markdown",
   "metadata": {},
   "source": [
    "### 数据处理\n",
    "\n",
    "在使用数据集训练网络前，首先需要对数据进行预处理，如下："
   ]
  },
  {
   "cell_type": "code",
   "execution_count": null,
   "metadata": {},
   "outputs": [],
   "source": [
    "def create_dataset(data_dir, training=True, batch_size=32, resize=(32, 32),\n",
    "                   rescale=1/(255*0.3081), shift=-0.1307/0.3081, buffer_size=64):\n",
    "    data_train = os.path.join(data_dir, 'train') # 训练集信息\n",
    "    data_test = os.path.join(data_dir, 'test') # 测试集信息\n",
    "    print(data_train)\n",
    "    print(data_test)\n",
    "    ds = ms.dataset.MnistDataset(data_train if training else data_test)\n",
    "\n",
    "    ds = ds.map(input_columns=[\"image\"], operations=[CV.Resize(resize), CV.Rescale(rescale, shift), CV.HWC2CHW()])\n",
    "    ds = ds.map(input_columns=[\"label\"], operations=C.TypeCast(ms.int32))\n",
    "    # When `dataset_sink_mode=True` on Ascend, append `ds = ds.repeat(num_epochs) to the end\n",
    "    ds = ds.shuffle(buffer_size=buffer_size).batch(batch_size, drop_remainder=True)\n",
    "\n",
    "    return ds"
   ]
  },
  {
   "cell_type": "markdown",
   "metadata": {},
   "source": [
    "对其中几张图片进行可视化，可以看到图片中的手写数字，图片的大小为32x32。"
   ]
  },
  {
   "cell_type": "code",
   "execution_count": null,
   "metadata": {},
   "outputs": [],
   "source": [
    "import matplotlib.pyplot as plt\n",
    "ds = create_dataset(DATA_PATH, training=False)\n",
    "data = ds.create_dict_iterator().get_next()\n",
    "images = data['image'].asnumpy()\n",
    "labels = data['label'].asnumpy()\n",
    "\n",
    "for i in range(1, 5):\n",
    "    plt.subplot(2, 2, i)\n",
    "    plt.imshow(images[i][0])\n",
    "    plt.title('Number: %s' % labels[i])\n",
    "    plt.xticks([])\n",
    "plt.show()"
   ]
  },
  {
   "cell_type": "markdown",
   "metadata": {},
   "source": [
    "### 定义模型\n",
    "\n",
    "定义 LeNet5 模型，模型结构如下图所示：\n",
    "\n",
    "<img src=\"https://imgbed.momodel.cn/lenet5.jpg\"/>\n",
    "<!-- ![](_images/lenet5.jpg) -->\n",
    "\n",
    "[1] 图片来源于http://yann.lecun.com/exdb/publis/pdf/lecun-01a.pdf\n",
    "\n",
    "> **提示**: MindSpore model_zoo中提供了多种常见的模型，可以直接使用。"
   ]
  },
  {
   "cell_type": "code",
   "execution_count": null,
   "metadata": {},
   "outputs": [],
   "source": [
    "class LeNet5(nn.Cell):\n",
    "    def __init__(self):\n",
    "        super(LeNet5, self).__init__()\n",
    "        self.conv1 = nn.Conv2d(1, 6, 5, stride=1, pad_mode='valid')\n",
    "        self.conv2 = nn.Conv2d(6, 16, 5, stride=1, pad_mode='valid')\n",
    "        self.relu = nn.ReLU()\n",
    "        self.pool = nn.MaxPool2d(kernel_size=2, stride=2)\n",
    "        self.flatten = nn.Flatten()\n",
    "        self.fc1 = nn.Dense(400, 120)\n",
    "        self.fc2 = nn.Dense(120, 84)\n",
    "        self.fc3 = nn.Dense(84, 10)\n",
    "\n",
    "    def construct(self, x):\n",
    "        x = self.relu(self.conv1(x))\n",
    "        x = self.pool(x)\n",
    "        x = self.relu(self.conv2(x))\n",
    "        x = self.pool(x)\n",
    "        x = self.flatten(x)\n",
    "        x = self.fc1(x)\n",
    "        x = self.fc2(x)\n",
    "        x = self.fc3(x)\n",
    "\n",
    "        return x"
   ]
  },
  {
   "cell_type": "markdown",
   "metadata": {},
   "source": [
    "### 训练\n",
    "\n",
    "使用MNIST数据集对上述定义的LeNet5模型进行训练。训练策略如下表所示，可以调整训练策略并查看训练效果，要求验证精度大于95%。\n",
    "\n",
    "| batch size | number of epochs | learning rate | optimizer |\n",
    "| -- | -- | -- | -- |\n",
    "| 32 | 3 | 0.01 | Momentum 0.9 |\n",
    "\n",
    "#### Callback\n",
    "\n",
    "MindSpore提供了Callback功能，可用于训练/测试过程中执行特定的任务。常用的Callback如下：\n",
    "\n",
    "- `ModelCheckpoint`：保存网络模型和参数，用于再训练或推理；\n",
    "- `LossMonitor`：监控loss值，当loss值为Nan或Inf时停止训练；\n",
    "- `SummaryStep`：把训练过程中的信息存储到文件中，用于后续查看或可视化展示。\n",
    "\n",
    "`ModelCheckpoint`会生成模型（.meta）和Chekpoint（.ckpt）文件，如每个epoch结束时，都保存一次checkpoint。\n",
    "\n",
    "#### 评估指标\n",
    "\n",
    "MindSpore提供了多种Metric评估指标，如`accuracy`、`loss`、`precision`、`recall`、`F1`。定义一个metrics字典/元组，里面包含多种指标，传递给`Model`，然后调用`model.eval`接口来计算这些指标。`model.eval`会返回一个字典，包含各个指标及其对应的值。"
   ]
  },
  {
   "cell_type": "code",
   "execution_count": null,
   "metadata": {},
   "outputs": [],
   "source": [
    "# Please remove stale checkpoint folder `ckpt`\n",
    "os.system(f'rm -rf {CKPT_DIR}')\n",
    "\n",
    "def train(data_dir, lr=0.01, momentum=0.9, num_epochs=3, ckpt_name=\"lenet\"):\n",
    "    ds_train = create_dataset(data_dir)\n",
    "    ds_eval = create_dataset(data_dir, training=False)\n",
    "    steps_per_epoch = ds_train.get_dataset_size()\n",
    "\n",
    "    net = LeNet5()\n",
    "    loss = nn.loss.SoftmaxCrossEntropyWithLogits(sparse=True, reduction='mean')\n",
    "    opt = nn.Momentum(net.trainable_params(), lr, momentum)\n",
    "\n",
    "    ckpt_cfg = CheckpointConfig(save_checkpoint_steps=steps_per_epoch, keep_checkpoint_max=5)\n",
    "    ckpt_cb = ModelCheckpoint(prefix=ckpt_name, directory=CKPT_DIR, config=ckpt_cfg)\n",
    "    loss_cb = LossMonitor(steps_per_epoch)\n",
    "\n",
    "    model = Model(net, loss, opt, metrics={'acc', 'loss'})\n",
    "    model.train(num_epochs, ds_train, callbacks=[ckpt_cb, loss_cb], dataset_sink_mode=False)\n",
    "    metrics = model.eval(ds_eval, dataset_sink_mode=False)\n",
    "    print('Metrics:', metrics)\n",
    "\n",
    "train(DATA_PATH)"
   ]
  },
  {
   "cell_type": "markdown",
   "metadata": {},
   "source": [
    "### 加载 Checkpoint 进行验证\n",
    "\n",
    "mindspore提供了`load_checkpoint()`接口，可以将训练得到的checkpoint加载到新建的模型中，用于验证或推理。"
   ]
  },
  {
   "cell_type": "code",
   "execution_count": null,
   "metadata": {},
   "outputs": [],
   "source": [
    "CKPT = os.path.join(CKPT_DIR, 'lenet-3_1875.ckpt')\n",
    "\n",
    "def eval(data_dir):\n",
    "    ds_eval = create_dataset(data_dir, training=False)\n",
    "    net = LeNet5()\n",
    "    loss = nn.loss.SoftmaxCrossEntropyWithLogits(sparse=True, reduction='mean')\n",
    "    load_checkpoint(CKPT, net=net)\n",
    "    model = Model(net, loss, metrics={'acc', 'loss'})\n",
    "    metric = model.eval(ds_eval, dataset_sink_mode=False)\n",
    "    print(metric)\n",
    "\n",
    "eval(DATA_PATH)"
   ]
  },
  {
   "cell_type": "markdown",
   "metadata": {},
   "source": [
    "### 加载 Checkpoint 进行推理\n",
    "  \n",
    "使用训练后的LeNet5模型对手写数字进行识别，使用matplotlib将推理结果可视化，可以看到识别结果基本上是正确的。"
   ]
  },
  {
   "cell_type": "code",
   "execution_count": null,
   "metadata": {},
   "outputs": [],
   "source": [
    "def infer(data_dir):\n",
    "    ds = create_dataset(data_dir, training=False).create_dict_iterator(output_numpy=True)\n",
    "    data = ds.get_next()\n",
    "    images = data['image']\n",
    "    labels = data['label']\n",
    "    net = LeNet5()\n",
    "    load_checkpoint(CKPT, net=net)\n",
    "    model = Model(net)\n",
    "    output = model.predict(Tensor(data['image']))\n",
    "    preds = np.argmax(output.asnumpy(), axis=1)\n",
    "\n",
    "    for i in range(1, 5):\n",
    "        plt.subplot(2, 2, i)\n",
    "        plt.imshow(np.squeeze(images[i]))\n",
    "        color = 'blue' if preds[i] == labels[i] else 'red'\n",
    "        plt.title(\"prediction: {}, truth: {}\".format(preds[i], labels[i]), color=color)\n",
    "        plt.xticks([])\n",
    "    plt.show()\n",
    "\n",
    "infer(DATA_PATH)"
   ]
  },
  {
   "cell_type": "markdown",
   "metadata": {},
   "source": [
    "## 实验小结\n",
    "\n",
    "本实验展示了如何使用MindSpore进行手写数字识别，以及开发和训练LeNet5模型。通过对LeNet5模型做几代的训练，然后使用训练后的LeNet5模型对手写数字进行识别，识别准确率大于95%。即LeNet5学习到了如何进行手写数字识别。"
   ]
  }
 ],
 "metadata": {
  "kernelspec": {
   "display_name": "Python 3",
   "language": "python",
   "name": "python3"
  },
  "language_info": {
   "codemirror_mode": {
    "name": "ipython",
    "version": 3
   },
   "file_extension": ".py",
   "mimetype": "text/x-python",
   "name": "python",
   "nbconvert_exporter": "python",
   "pygments_lexer": "ipython3",
   "version": "3.7.5"
  }
 },
 "nbformat": 4,
 "nbformat_minor": 4
}
